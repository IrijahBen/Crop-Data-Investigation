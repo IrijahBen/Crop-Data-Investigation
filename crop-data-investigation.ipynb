{
 "cells": [
  {
   "cell_type": "markdown",
   "id": "b2e0afdb",
   "metadata": {
    "papermill": {
     "duration": 0.007995,
     "end_time": "2025-03-16T21:39:53.847766",
     "exception": false,
     "start_time": "2025-03-16T21:39:53.839771",
     "status": "completed"
    },
    "tags": []
   },
   "source": [
    "## Project Scenario"
   ]
  },
  {
   "cell_type": "markdown",
   "id": "2c003c8f",
   "metadata": {
    "papermill": {
     "duration": 0.007338,
     "end_time": "2025-03-16T21:39:53.862024",
     "exception": false,
     "start_time": "2025-03-16T21:39:53.854686",
     "status": "completed"
    },
    "tags": []
   },
   "source": [
    "#### Imagine you have just been hired by a US Venture Capital firm as a data scientist.\n",
    "\n",
    " The company is considering foreign grain markets to help meet its supply chain requirements for its recent investments in the microbrewery and microdistillery industry, which is involved with the production and distribution of craft beers and spirits.\n",
    "\n",
    " Your first task is to provide a high level analysis of crop production in Canada. Your stakeholders want to understand the current and historical performance of certain crop types in terms of supply and price. For now they are mainly interested in a macro-view of Canada’s crop farming industry, and how it relates to the relative value of the Canadian and US dollars."
   ]
  },
  {
   "cell_type": "markdown",
   "id": "85a442d5",
   "metadata": {
    "papermill": {
     "duration": 0.008298,
     "end_time": "2025-03-16T21:39:53.877459",
     "exception": false,
     "start_time": "2025-03-16T21:39:53.869161",
     "status": "completed"
    },
    "tags": []
   },
   "source": [
    "We need to work with 4 datasets:\n",
    "\n",
    "Annual Crop Data: https://cf-courses-data.s3.us.cloud-object-storage.appdomain.cloud/IBM-RP0203EN-SkillsNetwork/labs/Final%20Project/Annual_Crop_Data.csv\n",
    "\n",
    "Farm product prices: https://cf-courses-data.s3.us.cloud-object-storage.appdomain.cloud/IBM-RP0203EN-SkillsNetwork/labs/Final%20Project/Monthly_Farm_Prices.csv\n",
    "\n",
    "Daily FX Data: https://cf-courses-data.s3.us.cloud-object-storage.appdomain.cloud/IBM-RP0203EN-SkillsNetwork/labs/Final%20Project/Daily_FX.csv\n",
    "\n",
    "Monthly FX Data: https://cf-courses-data.s3.us.cloud-object-storage.appdomain.cloud/IBM-RP0203EN-SkillsNetwork/labs/Final%20Project/Monthly_FX.csv"
   ]
  },
  {
   "cell_type": "markdown",
   "id": "d5998727",
   "metadata": {
    "papermill": {
     "duration": 0.007441,
     "end_time": "2025-03-16T21:39:53.892080",
     "exception": false,
     "start_time": "2025-03-16T21:39:53.884639",
     "status": "completed"
    },
    "tags": []
   },
   "source": [
    "## Load all the libraries I need for the project"
   ]
  },
  {
   "cell_type": "code",
   "execution_count": 1,
   "id": "605e33b1",
   "metadata": {
    "_cell_guid": "bfc50b8d-2d00-43d9-9b8b-d3383d6df5a6",
    "_execution_state": "idle",
    "_uuid": "01c2ba16-d9f5-4161-938b-57d9bf4f9ae9",
    "collapsed": false,
    "execution": {
     "iopub.execute_input": "2025-03-16T21:39:53.910765Z",
     "iopub.status.busy": "2025-03-16T21:39:53.908288Z",
     "iopub.status.idle": "2025-03-16T21:39:55.435092Z",
     "shell.execute_reply": "2025-03-16T21:39:55.433171Z"
    },
    "jupyter": {
     "outputs_hidden": false
    },
    "papermill": {
     "duration": 1.538937,
     "end_time": "2025-03-16T21:39:55.437713",
     "exception": false,
     "start_time": "2025-03-16T21:39:53.898776",
     "status": "completed"
    },
    "tags": []
   },
   "outputs": [
    {
     "name": "stderr",
     "output_type": "stream",
     "text": [
      "── \u001b[1mAttaching core tidyverse packages\u001b[22m ──────────────────────── tidyverse 2.0.0 ──\n",
      "\u001b[32m✔\u001b[39m \u001b[34mdplyr    \u001b[39m 1.1.4     \u001b[32m✔\u001b[39m \u001b[34mreadr    \u001b[39m 2.1.5\n",
      "\u001b[32m✔\u001b[39m \u001b[34mforcats  \u001b[39m 1.0.0     \u001b[32m✔\u001b[39m \u001b[34mstringr  \u001b[39m 1.5.1\n",
      "\u001b[32m✔\u001b[39m \u001b[34mggplot2  \u001b[39m 3.5.1     \u001b[32m✔\u001b[39m \u001b[34mtibble   \u001b[39m 3.2.1\n",
      "\u001b[32m✔\u001b[39m \u001b[34mlubridate\u001b[39m 1.9.3     \u001b[32m✔\u001b[39m \u001b[34mtidyr    \u001b[39m 1.3.1\n",
      "\u001b[32m✔\u001b[39m \u001b[34mpurrr    \u001b[39m 1.0.2     \n"
     ]
    },
    {
     "name": "stderr",
     "output_type": "stream",
     "text": [
      "── \u001b[1mConflicts\u001b[22m ────────────────────────────────────────── tidyverse_conflicts() ──\n",
      "\u001b[31m✖\u001b[39m \u001b[34mdplyr\u001b[39m::\u001b[32mfilter()\u001b[39m masks \u001b[34mstats\u001b[39m::filter()\n",
      "\u001b[31m✖\u001b[39m \u001b[34mdplyr\u001b[39m::\u001b[32mlag()\u001b[39m    masks \u001b[34mstats\u001b[39m::lag()\n",
      "\u001b[36mℹ\u001b[39m Use the conflicted package (\u001b[3m\u001b[34m<http://conflicted.r-lib.org/>\u001b[39m\u001b[23m) to force all conflicts to become errors\n"
     ]
    },
    {
     "data": {
      "text/html": [],
      "text/latex": [],
      "text/markdown": [],
      "text/plain": [
       "character(0)"
      ]
     },
     "metadata": {},
     "output_type": "display_data"
    }
   ],
   "source": [
    "# This R environment comes with many helpful analytics packages installed\n",
    "# It is defined by the kaggle/rstats Docker image: https://github.com/kaggle/docker-rstats\n",
    "# For example, here's a helpful package to load\n",
    "\n",
    "library(tidyverse) # metapackage of all tidyverse packages\n",
    "\n",
    "# Input data files are available in the read-only \"../input/\" directory\n",
    "# For example, running this (by clicking run or pressing Shift+Enter) will list all files under the input directory\n",
    "\n",
    "list.files(path = \"../input\")\n",
    "\n",
    "# You can write up to 20GB to the current directory (/kaggle/working/) that gets preserved as output when you create a version using \"Save & Run All\" \n",
    "# You can also write temporary files to /kaggle/temp/, but they won't be saved outside of the current session"
   ]
  },
  {
   "cell_type": "code",
   "execution_count": 2,
   "id": "de357d8c",
   "metadata": {
    "execution": {
     "iopub.execute_input": "2025-03-16T21:39:55.490005Z",
     "iopub.status.busy": "2025-03-16T21:39:55.455429Z",
     "iopub.status.idle": "2025-03-16T21:39:55.673597Z",
     "shell.execute_reply": "2025-03-16T21:39:55.671605Z"
    },
    "papermill": {
     "duration": 0.229996,
     "end_time": "2025-03-16T21:39:55.676304",
     "exception": false,
     "start_time": "2025-03-16T21:39:55.446308",
     "status": "completed"
    },
    "tags": []
   },
   "outputs": [],
   "source": [
    "library(RSQLite)\n"
   ]
  },
  {
   "cell_type": "markdown",
   "id": "bab216e3",
   "metadata": {
    "papermill": {
     "duration": 0.007625,
     "end_time": "2025-03-16T21:39:55.691283",
     "exception": false,
     "start_time": "2025-03-16T21:39:55.683658",
     "status": "completed"
    },
    "tags": []
   },
   "source": [
    "### Create connection"
   ]
  },
  {
   "cell_type": "code",
   "execution_count": 3,
   "id": "f2df4e28",
   "metadata": {
    "execution": {
     "iopub.execute_input": "2025-03-16T21:39:55.709022Z",
     "iopub.status.busy": "2025-03-16T21:39:55.707439Z",
     "iopub.status.idle": "2025-03-16T21:39:55.755753Z",
     "shell.execute_reply": "2025-03-16T21:39:55.753628Z"
    },
    "papermill": {
     "duration": 0.060888,
     "end_time": "2025-03-16T21:39:55.759111",
     "exception": false,
     "start_time": "2025-03-16T21:39:55.698223",
     "status": "completed"
    },
    "tags": []
   },
   "outputs": [],
   "source": [
    "connect <- dbConnect(RSQLite::SQLite(),\"FinalDB.sqlite\")"
   ]
  },
  {
   "cell_type": "markdown",
   "id": "427fdb59",
   "metadata": {
    "papermill": {
     "duration": 0.006954,
     "end_time": "2025-03-16T21:39:55.772976",
     "exception": false,
     "start_time": "2025-03-16T21:39:55.766022",
     "status": "completed"
    },
    "tags": []
   },
   "source": [
    "### Create tables"
   ]
  },
  {
   "cell_type": "code",
   "execution_count": 4,
   "id": "71903b8d",
   "metadata": {
    "execution": {
     "iopub.execute_input": "2025-03-16T21:39:55.790813Z",
     "iopub.status.busy": "2025-03-16T21:39:55.789241Z",
     "iopub.status.idle": "2025-03-16T21:39:55.826942Z",
     "shell.execute_reply": "2025-03-16T21:39:55.825140Z"
    },
    "papermill": {
     "duration": 0.050523,
     "end_time": "2025-03-16T21:39:55.830374",
     "exception": false,
     "start_time": "2025-03-16T21:39:55.779851",
     "status": "completed"
    },
    "tags": []
   },
   "outputs": [],
   "source": [
    "crop_data <- dbExecute(connect, \"CREATE TABLE CROP_DATA (\n",
    "                                      CD_ID INTEGER NOT NULL,\n",
    "                                      YEAR DATE NOT NULL,\n",
    "                                      CROP_TYPE VARCHAR(20) NOT NULL,\n",
    "                                      GEO VARCHAR(20) NOT NULL, \n",
    "                                      SEEDED_AREA INTEGER NOT NULL,\n",
    "                                      HARVESTED_AREA INTEGER NOT NULL,\n",
    "                                      PRODUCTION INTEGER NOT NULL,\n",
    "                                      AVG_YIELD INTEGER NOT NULL,\n",
    "                                      PRIMARY KEY (CD_ID)\n",
    "                                      )\")\n",
    "farm_prices <- dbExecute(connect, \"CREATE TABLE FARM_PRICES (\n",
    "                                        CD_ID INTEGER NOT NULL,\n",
    "                                        DATE DATE NOT NULL,\n",
    "                                        CROP_TYPE VARCHAR(20) NOT NULL,\n",
    "                                        GEO VARCHAR(20) NOT NULL,\n",
    "                                        PRICE_PRERMT FLOAT(6) NOT NULL,\n",
    "                                        PRIMARY KEY (CD_ID)\n",
    "                                 )\")\n",
    "daily_fx <- dbExecute(connect, \"CREATE TABLE DAILY_FX (\n",
    "                                DFX_ID INTEGER NOT NULL,\n",
    "                                DATE DATE NOT NULL,\n",
    "                                FXUSDCAD FLOAT(6),\n",
    "                                PRIMARY KEY (DFX_ID)\n",
    "                                )\")\n",
    "monthly_fx <- dbExecute(connect, \"CREATE TABLE MONTHLY_FX(\n",
    "                                  DFX_ID INTEGER NOT NULL,\n",
    "                                  DATE DATE NOT NULL,\n",
    "                                  FXUSDCAD FLOAT(6) NOT NULL,\n",
    "                                  PRIMARY KEY (DFX_ID))\")"
   ]
  },
  {
   "cell_type": "markdown",
   "id": "f840c23a",
   "metadata": {
    "papermill": {
     "duration": 0.006983,
     "end_time": "2025-03-16T21:39:55.844496",
     "exception": false,
     "start_time": "2025-03-16T21:39:55.837513",
     "status": "completed"
    },
    "tags": []
   },
   "source": [
    "### Verify the table in database "
   ]
  },
  {
   "cell_type": "code",
   "execution_count": 5,
   "id": "47cc684b",
   "metadata": {
    "execution": {
     "iopub.execute_input": "2025-03-16T21:39:55.862686Z",
     "iopub.status.busy": "2025-03-16T21:39:55.861003Z",
     "iopub.status.idle": "2025-03-16T21:39:55.916526Z",
     "shell.execute_reply": "2025-03-16T21:39:55.914187Z"
    },
    "papermill": {
     "duration": 0.06855,
     "end_time": "2025-03-16T21:39:55.919894",
     "exception": false,
     "start_time": "2025-03-16T21:39:55.851344",
     "status": "completed"
    },
    "tags": []
   },
   "outputs": [
    {
     "name": "stdout",
     "output_type": "stream",
     "text": [
      "Table was created successfully.\n"
     ]
    },
    {
     "name": "stdout",
     "output_type": "stream",
     "text": [
      "Table was created successfully.\n"
     ]
    },
    {
     "name": "stdout",
     "output_type": "stream",
     "text": [
      "Table was created successfully.\n"
     ]
    },
    {
     "name": "stdout",
     "output_type": "stream",
     "text": [
      "Table was created successfully.\n"
     ]
    },
    {
     "data": {
      "text/html": [
       "<style>\n",
       ".list-inline {list-style: none; margin:0; padding: 0}\n",
       ".list-inline>li {display: inline-block}\n",
       ".list-inline>li:not(:last-child)::after {content: \"\\00b7\"; padding: 0 .5ex}\n",
       "</style>\n",
       "<ol class=list-inline><li>'CROP_DATA'</li><li>'DAILY_FX'</li><li>'FARM_PRICES'</li><li>'MONTHLY_FX'</li></ol>\n"
      ],
      "text/latex": [
       "\\begin{enumerate*}\n",
       "\\item 'CROP\\_DATA'\n",
       "\\item 'DAILY\\_FX'\n",
       "\\item 'FARM\\_PRICES'\n",
       "\\item 'MONTHLY\\_FX'\n",
       "\\end{enumerate*}\n"
      ],
      "text/markdown": [
       "1. 'CROP_DATA'\n",
       "2. 'DAILY_FX'\n",
       "3. 'FARM_PRICES'\n",
       "4. 'MONTHLY_FX'\n",
       "\n",
       "\n"
      ],
      "text/plain": [
       "[1] \"CROP_DATA\"   \"DAILY_FX\"    \"FARM_PRICES\" \"MONTHLY_FX\" "
      ]
     },
     "metadata": {},
     "output_type": "display_data"
    }
   ],
   "source": [
    "if(crop_data == -1){\n",
    "  cat (\"An error has occurred.\\n\")\n",
    "  msg <- odbcGetErrMsg(connect)\n",
    "  print (msg)\n",
    "}else {\n",
    "  cat (\"Table was created successfully.\\n\")\n",
    "}\n",
    "if(farm_prices == -1){\n",
    "  cat (\"An error has occurred.\\n\")\n",
    "  msg <- odbcGetErrMsg(connect)\n",
    "  print (msg)\n",
    "}else {\n",
    "  cat (\"Table was created successfully.\\n\")\n",
    "}\n",
    "if(daily_fx == -1){\n",
    "  cat (\"An error has occurred.\\n\")\n",
    "  msg <- odbcGetErrMsg(connect)\n",
    "  print (msg)\n",
    "}else {\n",
    "  cat (\"Table was created successfully.\\n\")\n",
    "}\n",
    "if(monthly_fx == -1){\n",
    "  cat (\"An error has occurred.\\n\")\n",
    "  msg <- odbcGetErrMsg(connect)\n",
    "  print (msg)\n",
    "}else {\n",
    "  cat (\"Table was created successfully.\\n\")\n",
    "}\n",
    "dbListTables(connect)"
   ]
  },
  {
   "cell_type": "markdown",
   "id": "bcc2f2a3",
   "metadata": {
    "papermill": {
     "duration": 0.00825,
     "end_time": "2025-03-16T21:39:55.935408",
     "exception": false,
     "start_time": "2025-03-16T21:39:55.927158",
     "status": "completed"
    },
    "tags": []
   },
   "source": [
    "### Pull datasets and load tables into database "
   ]
  },
  {
   "cell_type": "code",
   "execution_count": 6,
   "id": "ff9421f2",
   "metadata": {
    "execution": {
     "iopub.execute_input": "2025-03-16T21:39:55.953902Z",
     "iopub.status.busy": "2025-03-16T21:39:55.952309Z",
     "iopub.status.idle": "2025-03-16T21:39:59.805708Z",
     "shell.execute_reply": "2025-03-16T21:39:59.803805Z"
    },
    "papermill": {
     "duration": 3.866309,
     "end_time": "2025-03-16T21:39:59.809085",
     "exception": false,
     "start_time": "2025-03-16T21:39:55.942776",
     "status": "completed"
    },
    "tags": []
   },
   "outputs": [],
   "source": [
    "crop_df <- read.csv('https://cf-courses-data.s3.us.cloud-object-storage.appdomain.cloud/IBM-RP0203EN-SkillsNetwork/labs/Practice%20Assignment/Annual_Crop_Data.csv', colClasses=c(YEAR=\"character\"))\n",
    "farm_df <- read.csv('https://cf-courses-data.s3.us.cloud-object-storage.appdomain.cloud/IBM-RP0203EN-SkillsNetwork/labs/Final%20Project/Monthly_Farm_Prices.csv', colClasses = c(DATE= 'character'))\n",
    "daily_df <- read.csv('https://cf-courses-data.s3.us.cloud-object-storage.appdomain.cloud/IBM-RP0203EN-SkillsNetwork/labs/Practice%20Assignment/Daily_FX.csv', colClasses=c(DATE=\"character\"))\n",
    "month_df <- read.csv('https://cf-courses-data.s3.us.cloud-object-storage.appdomain.cloud/IBM-RP0203EN-SkillsNetwork/labs/Final%20Project/Monthly_FX.csv', colClasses = c(DATE = 'character'))\n"
   ]
  },
  {
   "cell_type": "markdown",
   "id": "b1d86874",
   "metadata": {
    "papermill": {
     "duration": 0.007263,
     "end_time": "2025-03-16T21:39:59.823721",
     "exception": false,
     "start_time": "2025-03-16T21:39:59.816458",
     "status": "completed"
    },
    "tags": []
   },
   "source": [
    "### Inspect each datasets"
   ]
  },
  {
   "cell_type": "code",
   "execution_count": 7,
   "id": "4f01b67f",
   "metadata": {
    "execution": {
     "iopub.execute_input": "2025-03-16T21:39:59.843619Z",
     "iopub.status.busy": "2025-03-16T21:39:59.841616Z",
     "iopub.status.idle": "2025-03-16T21:39:59.918605Z",
     "shell.execute_reply": "2025-03-16T21:39:59.916730Z"
    },
    "papermill": {
     "duration": 0.08999,
     "end_time": "2025-03-16T21:39:59.921230",
     "exception": false,
     "start_time": "2025-03-16T21:39:59.831240",
     "status": "completed"
    },
    "tags": []
   },
   "outputs": [
    {
     "data": {
      "text/html": [
       "<table class=\"dataframe\">\n",
       "<caption>A data.frame: 6 × 8</caption>\n",
       "<thead>\n",
       "\t<tr><th></th><th scope=col>CD_ID</th><th scope=col>YEAR</th><th scope=col>CROP_TYPE</th><th scope=col>GEO</th><th scope=col>SEEDED_AREA</th><th scope=col>HARVESTED_AREA</th><th scope=col>PRODUCTION</th><th scope=col>AVG_YIELD</th></tr>\n",
       "\t<tr><th></th><th scope=col>&lt;int&gt;</th><th scope=col>&lt;chr&gt;</th><th scope=col>&lt;chr&gt;</th><th scope=col>&lt;chr&gt;</th><th scope=col>&lt;int&gt;</th><th scope=col>&lt;int&gt;</th><th scope=col>&lt;int&gt;</th><th scope=col>&lt;int&gt;</th></tr>\n",
       "</thead>\n",
       "<tbody>\n",
       "\t<tr><th scope=row>1</th><td>0</td><td>1965-12-31</td><td>Barley</td><td>Alberta     </td><td>1372000</td><td>1372000</td><td>2504000</td><td>1825</td></tr>\n",
       "\t<tr><th scope=row>2</th><td>1</td><td>1965-12-31</td><td>Barley</td><td>Canada      </td><td>2476800</td><td>2476800</td><td>4752900</td><td>1920</td></tr>\n",
       "\t<tr><th scope=row>3</th><td>2</td><td>1965-12-31</td><td>Barley</td><td>Saskatchewan</td><td> 708000</td><td> 708000</td><td>1415000</td><td>2000</td></tr>\n",
       "\t<tr><th scope=row>4</th><td>3</td><td>1965-12-31</td><td>Canola</td><td>Alberta     </td><td> 297400</td><td> 297400</td><td> 215500</td><td> 725</td></tr>\n",
       "\t<tr><th scope=row>5</th><td>4</td><td>1965-12-31</td><td>Canola</td><td>Canada      </td><td> 580700</td><td> 580700</td><td> 512600</td><td> 885</td></tr>\n",
       "\t<tr><th scope=row>6</th><td>5</td><td>1965-12-31</td><td>Canola</td><td>Saskatchewan</td><td> 224600</td><td> 224600</td><td> 242700</td><td>1080</td></tr>\n",
       "</tbody>\n",
       "</table>\n"
      ],
      "text/latex": [
       "A data.frame: 6 × 8\n",
       "\\begin{tabular}{r|llllllll}\n",
       "  & CD\\_ID & YEAR & CROP\\_TYPE & GEO & SEEDED\\_AREA & HARVESTED\\_AREA & PRODUCTION & AVG\\_YIELD\\\\\n",
       "  & <int> & <chr> & <chr> & <chr> & <int> & <int> & <int> & <int>\\\\\n",
       "\\hline\n",
       "\t1 & 0 & 1965-12-31 & Barley & Alberta      & 1372000 & 1372000 & 2504000 & 1825\\\\\n",
       "\t2 & 1 & 1965-12-31 & Barley & Canada       & 2476800 & 2476800 & 4752900 & 1920\\\\\n",
       "\t3 & 2 & 1965-12-31 & Barley & Saskatchewan &  708000 &  708000 & 1415000 & 2000\\\\\n",
       "\t4 & 3 & 1965-12-31 & Canola & Alberta      &  297400 &  297400 &  215500 &  725\\\\\n",
       "\t5 & 4 & 1965-12-31 & Canola & Canada       &  580700 &  580700 &  512600 &  885\\\\\n",
       "\t6 & 5 & 1965-12-31 & Canola & Saskatchewan &  224600 &  224600 &  242700 & 1080\\\\\n",
       "\\end{tabular}\n"
      ],
      "text/markdown": [
       "\n",
       "A data.frame: 6 × 8\n",
       "\n",
       "| <!--/--> | CD_ID &lt;int&gt; | YEAR &lt;chr&gt; | CROP_TYPE &lt;chr&gt; | GEO &lt;chr&gt; | SEEDED_AREA &lt;int&gt; | HARVESTED_AREA &lt;int&gt; | PRODUCTION &lt;int&gt; | AVG_YIELD &lt;int&gt; |\n",
       "|---|---|---|---|---|---|---|---|---|\n",
       "| 1 | 0 | 1965-12-31 | Barley | Alberta      | 1372000 | 1372000 | 2504000 | 1825 |\n",
       "| 2 | 1 | 1965-12-31 | Barley | Canada       | 2476800 | 2476800 | 4752900 | 1920 |\n",
       "| 3 | 2 | 1965-12-31 | Barley | Saskatchewan |  708000 |  708000 | 1415000 | 2000 |\n",
       "| 4 | 3 | 1965-12-31 | Canola | Alberta      |  297400 |  297400 |  215500 |  725 |\n",
       "| 5 | 4 | 1965-12-31 | Canola | Canada       |  580700 |  580700 |  512600 |  885 |\n",
       "| 6 | 5 | 1965-12-31 | Canola | Saskatchewan |  224600 |  224600 |  242700 | 1080 |\n",
       "\n"
      ],
      "text/plain": [
       "  CD_ID YEAR       CROP_TYPE GEO          SEEDED_AREA HARVESTED_AREA PRODUCTION\n",
       "1 0     1965-12-31 Barley    Alberta      1372000     1372000        2504000   \n",
       "2 1     1965-12-31 Barley    Canada       2476800     2476800        4752900   \n",
       "3 2     1965-12-31 Barley    Saskatchewan  708000      708000        1415000   \n",
       "4 3     1965-12-31 Canola    Alberta       297400      297400         215500   \n",
       "5 4     1965-12-31 Canola    Canada        580700      580700         512600   \n",
       "6 5     1965-12-31 Canola    Saskatchewan  224600      224600         242700   \n",
       "  AVG_YIELD\n",
       "1 1825     \n",
       "2 1920     \n",
       "3 2000     \n",
       "4  725     \n",
       "5  885     \n",
       "6 1080     "
      ]
     },
     "metadata": {},
     "output_type": "display_data"
    },
    {
     "data": {
      "text/html": [
       "<table class=\"dataframe\">\n",
       "<caption>A data.frame: 6 × 5</caption>\n",
       "<thead>\n",
       "\t<tr><th></th><th scope=col>CD_ID</th><th scope=col>DATE</th><th scope=col>CROP_TYPE</th><th scope=col>GEO</th><th scope=col>PRICE_PRERMT</th></tr>\n",
       "\t<tr><th></th><th scope=col>&lt;int&gt;</th><th scope=col>&lt;chr&gt;</th><th scope=col>&lt;chr&gt;</th><th scope=col>&lt;chr&gt;</th><th scope=col>&lt;dbl&gt;</th></tr>\n",
       "</thead>\n",
       "<tbody>\n",
       "\t<tr><th scope=row>1</th><td>0</td><td>1985-01-01</td><td>Barley</td><td>Alberta     </td><td>127.39</td></tr>\n",
       "\t<tr><th scope=row>2</th><td>1</td><td>1985-01-01</td><td>Barley</td><td>Saskatchewan</td><td>121.38</td></tr>\n",
       "\t<tr><th scope=row>3</th><td>2</td><td>1985-01-01</td><td>Canola</td><td>Alberta     </td><td>342.00</td></tr>\n",
       "\t<tr><th scope=row>4</th><td>3</td><td>1985-01-01</td><td>Canola</td><td>Saskatchewan</td><td>339.82</td></tr>\n",
       "\t<tr><th scope=row>5</th><td>4</td><td>1985-01-01</td><td>Rye   </td><td>Alberta     </td><td>100.77</td></tr>\n",
       "\t<tr><th scope=row>6</th><td>5</td><td>1985-01-01</td><td>Rye   </td><td>Saskatchewan</td><td>109.75</td></tr>\n",
       "</tbody>\n",
       "</table>\n"
      ],
      "text/latex": [
       "A data.frame: 6 × 5\n",
       "\\begin{tabular}{r|lllll}\n",
       "  & CD\\_ID & DATE & CROP\\_TYPE & GEO & PRICE\\_PRERMT\\\\\n",
       "  & <int> & <chr> & <chr> & <chr> & <dbl>\\\\\n",
       "\\hline\n",
       "\t1 & 0 & 1985-01-01 & Barley & Alberta      & 127.39\\\\\n",
       "\t2 & 1 & 1985-01-01 & Barley & Saskatchewan & 121.38\\\\\n",
       "\t3 & 2 & 1985-01-01 & Canola & Alberta      & 342.00\\\\\n",
       "\t4 & 3 & 1985-01-01 & Canola & Saskatchewan & 339.82\\\\\n",
       "\t5 & 4 & 1985-01-01 & Rye    & Alberta      & 100.77\\\\\n",
       "\t6 & 5 & 1985-01-01 & Rye    & Saskatchewan & 109.75\\\\\n",
       "\\end{tabular}\n"
      ],
      "text/markdown": [
       "\n",
       "A data.frame: 6 × 5\n",
       "\n",
       "| <!--/--> | CD_ID &lt;int&gt; | DATE &lt;chr&gt; | CROP_TYPE &lt;chr&gt; | GEO &lt;chr&gt; | PRICE_PRERMT &lt;dbl&gt; |\n",
       "|---|---|---|---|---|---|\n",
       "| 1 | 0 | 1985-01-01 | Barley | Alberta      | 127.39 |\n",
       "| 2 | 1 | 1985-01-01 | Barley | Saskatchewan | 121.38 |\n",
       "| 3 | 2 | 1985-01-01 | Canola | Alberta      | 342.00 |\n",
       "| 4 | 3 | 1985-01-01 | Canola | Saskatchewan | 339.82 |\n",
       "| 5 | 4 | 1985-01-01 | Rye    | Alberta      | 100.77 |\n",
       "| 6 | 5 | 1985-01-01 | Rye    | Saskatchewan | 109.75 |\n",
       "\n"
      ],
      "text/plain": [
       "  CD_ID DATE       CROP_TYPE GEO          PRICE_PRERMT\n",
       "1 0     1985-01-01 Barley    Alberta      127.39      \n",
       "2 1     1985-01-01 Barley    Saskatchewan 121.38      \n",
       "3 2     1985-01-01 Canola    Alberta      342.00      \n",
       "4 3     1985-01-01 Canola    Saskatchewan 339.82      \n",
       "5 4     1985-01-01 Rye       Alberta      100.77      \n",
       "6 5     1985-01-01 Rye       Saskatchewan 109.75      "
      ]
     },
     "metadata": {},
     "output_type": "display_data"
    },
    {
     "data": {
      "text/html": [
       "<table class=\"dataframe\">\n",
       "<caption>A data.frame: 6 × 3</caption>\n",
       "<thead>\n",
       "\t<tr><th></th><th scope=col>DFX_ID</th><th scope=col>DATE</th><th scope=col>FXUSDCAD</th></tr>\n",
       "\t<tr><th></th><th scope=col>&lt;int&gt;</th><th scope=col>&lt;chr&gt;</th><th scope=col>&lt;dbl&gt;</th></tr>\n",
       "</thead>\n",
       "<tbody>\n",
       "\t<tr><th scope=row>1</th><td>0</td><td>2017-01-03</td><td>1.3435</td></tr>\n",
       "\t<tr><th scope=row>2</th><td>1</td><td>2017-01-04</td><td>1.3315</td></tr>\n",
       "\t<tr><th scope=row>3</th><td>2</td><td>2017-01-05</td><td>1.3244</td></tr>\n",
       "\t<tr><th scope=row>4</th><td>3</td><td>2017-01-06</td><td>1.3214</td></tr>\n",
       "\t<tr><th scope=row>5</th><td>4</td><td>2017-01-09</td><td>1.3240</td></tr>\n",
       "\t<tr><th scope=row>6</th><td>5</td><td>2017-01-10</td><td>1.3213</td></tr>\n",
       "</tbody>\n",
       "</table>\n"
      ],
      "text/latex": [
       "A data.frame: 6 × 3\n",
       "\\begin{tabular}{r|lll}\n",
       "  & DFX\\_ID & DATE & FXUSDCAD\\\\\n",
       "  & <int> & <chr> & <dbl>\\\\\n",
       "\\hline\n",
       "\t1 & 0 & 2017-01-03 & 1.3435\\\\\n",
       "\t2 & 1 & 2017-01-04 & 1.3315\\\\\n",
       "\t3 & 2 & 2017-01-05 & 1.3244\\\\\n",
       "\t4 & 3 & 2017-01-06 & 1.3214\\\\\n",
       "\t5 & 4 & 2017-01-09 & 1.3240\\\\\n",
       "\t6 & 5 & 2017-01-10 & 1.3213\\\\\n",
       "\\end{tabular}\n"
      ],
      "text/markdown": [
       "\n",
       "A data.frame: 6 × 3\n",
       "\n",
       "| <!--/--> | DFX_ID &lt;int&gt; | DATE &lt;chr&gt; | FXUSDCAD &lt;dbl&gt; |\n",
       "|---|---|---|---|\n",
       "| 1 | 0 | 2017-01-03 | 1.3435 |\n",
       "| 2 | 1 | 2017-01-04 | 1.3315 |\n",
       "| 3 | 2 | 2017-01-05 | 1.3244 |\n",
       "| 4 | 3 | 2017-01-06 | 1.3214 |\n",
       "| 5 | 4 | 2017-01-09 | 1.3240 |\n",
       "| 6 | 5 | 2017-01-10 | 1.3213 |\n",
       "\n"
      ],
      "text/plain": [
       "  DFX_ID DATE       FXUSDCAD\n",
       "1 0      2017-01-03 1.3435  \n",
       "2 1      2017-01-04 1.3315  \n",
       "3 2      2017-01-05 1.3244  \n",
       "4 3      2017-01-06 1.3214  \n",
       "5 4      2017-01-09 1.3240  \n",
       "6 5      2017-01-10 1.3213  "
      ]
     },
     "metadata": {},
     "output_type": "display_data"
    },
    {
     "data": {
      "text/html": [
       "<table class=\"dataframe\">\n",
       "<caption>A data.frame: 6 × 3</caption>\n",
       "<thead>\n",
       "\t<tr><th></th><th scope=col>DFX_ID</th><th scope=col>DATE</th><th scope=col>FXUSDCAD</th></tr>\n",
       "\t<tr><th></th><th scope=col>&lt;int&gt;</th><th scope=col>&lt;chr&gt;</th><th scope=col>&lt;dbl&gt;</th></tr>\n",
       "</thead>\n",
       "<tbody>\n",
       "\t<tr><th scope=row>1</th><td>0</td><td>2017-01-01</td><td>1.319276</td></tr>\n",
       "\t<tr><th scope=row>2</th><td>1</td><td>2017-02-01</td><td>1.310726</td></tr>\n",
       "\t<tr><th scope=row>3</th><td>2</td><td>2017-03-01</td><td>1.338643</td></tr>\n",
       "\t<tr><th scope=row>4</th><td>3</td><td>2017-04-01</td><td>1.344021</td></tr>\n",
       "\t<tr><th scope=row>5</th><td>4</td><td>2017-05-01</td><td>1.360705</td></tr>\n",
       "\t<tr><th scope=row>6</th><td>5</td><td>2017-06-01</td><td>1.329805</td></tr>\n",
       "</tbody>\n",
       "</table>\n"
      ],
      "text/latex": [
       "A data.frame: 6 × 3\n",
       "\\begin{tabular}{r|lll}\n",
       "  & DFX\\_ID & DATE & FXUSDCAD\\\\\n",
       "  & <int> & <chr> & <dbl>\\\\\n",
       "\\hline\n",
       "\t1 & 0 & 2017-01-01 & 1.319276\\\\\n",
       "\t2 & 1 & 2017-02-01 & 1.310726\\\\\n",
       "\t3 & 2 & 2017-03-01 & 1.338643\\\\\n",
       "\t4 & 3 & 2017-04-01 & 1.344021\\\\\n",
       "\t5 & 4 & 2017-05-01 & 1.360705\\\\\n",
       "\t6 & 5 & 2017-06-01 & 1.329805\\\\\n",
       "\\end{tabular}\n"
      ],
      "text/markdown": [
       "\n",
       "A data.frame: 6 × 3\n",
       "\n",
       "| <!--/--> | DFX_ID &lt;int&gt; | DATE &lt;chr&gt; | FXUSDCAD &lt;dbl&gt; |\n",
       "|---|---|---|---|\n",
       "| 1 | 0 | 2017-01-01 | 1.319276 |\n",
       "| 2 | 1 | 2017-02-01 | 1.310726 |\n",
       "| 3 | 2 | 2017-03-01 | 1.338643 |\n",
       "| 4 | 3 | 2017-04-01 | 1.344021 |\n",
       "| 5 | 4 | 2017-05-01 | 1.360705 |\n",
       "| 6 | 5 | 2017-06-01 | 1.329805 |\n",
       "\n"
      ],
      "text/plain": [
       "  DFX_ID DATE       FXUSDCAD\n",
       "1 0      2017-01-01 1.319276\n",
       "2 1      2017-02-01 1.310726\n",
       "3 2      2017-03-01 1.338643\n",
       "4 3      2017-04-01 1.344021\n",
       "5 4      2017-05-01 1.360705\n",
       "6 5      2017-06-01 1.329805"
      ]
     },
     "metadata": {},
     "output_type": "display_data"
    }
   ],
   "source": [
    "head(crop_df)\n",
    "head(farm_df)\n",
    "head(daily_df)\n",
    "head(month_df)"
   ]
  },
  {
   "cell_type": "markdown",
   "id": "f2506b6b",
   "metadata": {
    "papermill": {
     "duration": 0.009132,
     "end_time": "2025-03-16T21:39:59.938828",
     "exception": false,
     "start_time": "2025-03-16T21:39:59.929696",
     "status": "completed"
    },
    "tags": []
   },
   "source": [
    "### load into database"
   ]
  },
  {
   "cell_type": "code",
   "execution_count": 8,
   "id": "f02c4f25",
   "metadata": {
    "execution": {
     "iopub.execute_input": "2025-03-16T21:39:59.958967Z",
     "iopub.status.busy": "2025-03-16T21:39:59.957273Z",
     "iopub.status.idle": "2025-03-16T21:40:00.155095Z",
     "shell.execute_reply": "2025-03-16T21:40:00.152029Z"
    },
    "papermill": {
     "duration": 0.212227,
     "end_time": "2025-03-16T21:40:00.159171",
     "exception": false,
     "start_time": "2025-03-16T21:39:59.946944",
     "status": "completed"
    },
    "tags": []
   },
   "outputs": [
    {
     "data": {
      "text/html": [
       "<style>\n",
       ".list-inline {list-style: none; margin:0; padding: 0}\n",
       ".list-inline>li {display: inline-block}\n",
       ".list-inline>li:not(:last-child)::after {content: \"\\00b7\"; padding: 0 .5ex}\n",
       "</style>\n",
       "<ol class=list-inline><li>'CROP_DATA'</li><li>'DAILY_FX'</li><li>'FARM_PRICES'</li><li>'MONTHLY_FX'</li></ol>\n"
      ],
      "text/latex": [
       "\\begin{enumerate*}\n",
       "\\item 'CROP\\_DATA'\n",
       "\\item 'DAILY\\_FX'\n",
       "\\item 'FARM\\_PRICES'\n",
       "\\item 'MONTHLY\\_FX'\n",
       "\\end{enumerate*}\n"
      ],
      "text/markdown": [
       "1. 'CROP_DATA'\n",
       "2. 'DAILY_FX'\n",
       "3. 'FARM_PRICES'\n",
       "4. 'MONTHLY_FX'\n",
       "\n",
       "\n"
      ],
      "text/plain": [
       "[1] \"CROP_DATA\"   \"DAILY_FX\"    \"FARM_PRICES\" \"MONTHLY_FX\" "
      ]
     },
     "metadata": {},
     "output_type": "display_data"
    }
   ],
   "source": [
    "dbWriteTable(connect, \"CROP_DATA\", crop_df, overwrite=TRUE, header = TRUE)\n",
    "dbWriteTable(connect, \"FARM_PRICES\", farm_df, overwrite=TRUE, header = TRUE)\n",
    "dbWriteTable(connect, \"DAILY_FX\", daily_df, overwrite=TRUE, header = TRUE)\n",
    "dbWriteTable(connect, \"MONTHLY_FX\", month_df, overwrite=TRUE, header = TRUE)\n",
    "dbListTables(connect)"
   ]
  },
  {
   "cell_type": "markdown",
   "id": "21631a20",
   "metadata": {
    "papermill": {
     "duration": 0.010266,
     "end_time": "2025-03-16T21:40:00.178466",
     "exception": false,
     "start_time": "2025-03-16T21:40:00.168200",
     "status": "completed"
    },
    "tags": []
   },
   "source": [
    "### Now we have database and tables. it's the time we use sql to solve the problems"
   ]
  },
  {
   "cell_type": "markdown",
   "id": "f2a323fa",
   "metadata": {
    "papermill": {
     "duration": 0.00991,
     "end_time": "2025-03-16T21:40:00.200905",
     "exception": false,
     "start_time": "2025-03-16T21:40:00.190995",
     "status": "completed"
    },
    "tags": []
   },
   "source": [
    "#### There are 10 questions we need to answer: \n",
    "1. How many records are in the farm prices dataset?\n",
    "2. Which geographies are included in the farm prices dataset?\n",
    "3. How many hectares of Rye were harvested in Canada in 1968?\n",
    "4. Query and display the first 6 rows of the farm prices table for Rye.\n",
    "5. Which provinces grow Barley?\n",
    "6. Find the first and last dates for the farm prices data.\n",
    "7. Which crops have ever reached a farm price greater than or equal to $350 per metric tonne?\n",
    "8. Rank the crop types harvested in Saskatchewan in the year 2000 by their average yield. Which crop performed best\n",
    "9. Rank the crops and geographies by their average yield (KG per hectare) since the year 2000. Which crop and province had the highest average yield since the year 2000?\n",
    "10. Use a subquery to determine how much wheat was harvested in Canada in the most recent year of the data.\n",
    "11. Use an implicit inner join to calculate the monthly price per metric tonne of Canola grown in Saskatchewan in both Canadian and US dollars. Display the most recent 6 months of the data."
   ]
  },
  {
   "cell_type": "markdown",
   "id": "dbff0db5",
   "metadata": {
    "papermill": {
     "duration": 0.008932,
     "end_time": "2025-03-16T21:40:00.220377",
     "exception": false,
     "start_time": "2025-03-16T21:40:00.211445",
     "status": "completed"
    },
    "tags": []
   },
   "source": [
    "##### Question 1: How many records are in the farm prices dataset?"
   ]
  },
  {
   "cell_type": "code",
   "execution_count": 9,
   "id": "368aad82",
   "metadata": {
    "collapsed": true,
    "execution": {
     "iopub.execute_input": "2025-03-16T21:40:00.247558Z",
     "iopub.status.busy": "2025-03-16T21:40:00.245626Z",
     "iopub.status.idle": "2025-03-16T21:40:00.276409Z",
     "shell.execute_reply": "2025-03-16T21:40:00.274164Z"
    },
    "jupyter": {
     "outputs_hidden": true,
     "source_hidden": true
    },
    "papermill": {
     "duration": 0.0459,
     "end_time": "2025-03-16T21:40:00.279438",
     "exception": false,
     "start_time": "2025-03-16T21:40:00.233538",
     "status": "completed"
    },
    "tags": []
   },
   "outputs": [
    {
     "data": {
      "text/html": [
       "<table class=\"dataframe\">\n",
       "<caption>A data.frame: 1 × 1</caption>\n",
       "<thead>\n",
       "\t<tr><th scope=col>Number_of_Records</th></tr>\n",
       "\t<tr><th scope=col>&lt;int&gt;</th></tr>\n",
       "</thead>\n",
       "<tbody>\n",
       "\t<tr><td>2678</td></tr>\n",
       "</tbody>\n",
       "</table>\n"
      ],
      "text/latex": [
       "A data.frame: 1 × 1\n",
       "\\begin{tabular}{l}\n",
       " Number\\_of\\_Records\\\\\n",
       " <int>\\\\\n",
       "\\hline\n",
       "\t 2678\\\\\n",
       "\\end{tabular}\n"
      ],
      "text/markdown": [
       "\n",
       "A data.frame: 1 × 1\n",
       "\n",
       "| Number_of_Records &lt;int&gt; |\n",
       "|---|\n",
       "| 2678 |\n",
       "\n"
      ],
      "text/plain": [
       "  Number_of_Records\n",
       "1 2678             "
      ]
     },
     "metadata": {},
     "output_type": "display_data"
    }
   ],
   "source": [
    "dbGetQuery(connect, \"SELECT COUNT(CD_ID) AS Number_of_Records FROM FARM_PRICES\")"
   ]
  },
  {
   "cell_type": "markdown",
   "id": "85359c39",
   "metadata": {
    "papermill": {
     "duration": 0.009377,
     "end_time": "2025-03-16T21:40:00.299218",
     "exception": false,
     "start_time": "2025-03-16T21:40:00.289841",
     "status": "completed"
    },
    "tags": []
   },
   "source": [
    "##### Question 2: Which geographies are included in the farm prices dataset?"
   ]
  },
  {
   "cell_type": "code",
   "execution_count": 10,
   "id": "71b17771",
   "metadata": {
    "collapsed": true,
    "execution": {
     "iopub.execute_input": "2025-03-16T21:40:00.324194Z",
     "iopub.status.busy": "2025-03-16T21:40:00.322444Z",
     "iopub.status.idle": "2025-03-16T21:40:00.359074Z",
     "shell.execute_reply": "2025-03-16T21:40:00.355084Z"
    },
    "jupyter": {
     "outputs_hidden": true,
     "source_hidden": true
    },
    "papermill": {
     "duration": 0.054427,
     "end_time": "2025-03-16T21:40:00.364279",
     "exception": false,
     "start_time": "2025-03-16T21:40:00.309852",
     "status": "completed"
    },
    "tags": []
   },
   "outputs": [
    {
     "data": {
      "text/html": [
       "<table class=\"dataframe\">\n",
       "<caption>A data.frame: 2 × 1</caption>\n",
       "<thead>\n",
       "\t<tr><th scope=col>Geopraphies</th></tr>\n",
       "\t<tr><th scope=col>&lt;chr&gt;</th></tr>\n",
       "</thead>\n",
       "<tbody>\n",
       "\t<tr><td>Alberta     </td></tr>\n",
       "\t<tr><td>Saskatchewan</td></tr>\n",
       "</tbody>\n",
       "</table>\n"
      ],
      "text/latex": [
       "A data.frame: 2 × 1\n",
       "\\begin{tabular}{l}\n",
       " Geopraphies\\\\\n",
       " <chr>\\\\\n",
       "\\hline\n",
       "\t Alberta     \\\\\n",
       "\t Saskatchewan\\\\\n",
       "\\end{tabular}\n"
      ],
      "text/markdown": [
       "\n",
       "A data.frame: 2 × 1\n",
       "\n",
       "| Geopraphies &lt;chr&gt; |\n",
       "|---|\n",
       "| Alberta      |\n",
       "| Saskatchewan |\n",
       "\n"
      ],
      "text/plain": [
       "  Geopraphies \n",
       "1 Alberta     \n",
       "2 Saskatchewan"
      ]
     },
     "metadata": {},
     "output_type": "display_data"
    }
   ],
   "source": [
    "dbGetQuery(connect, \"SELECT DISTINCT GEO AS Geopraphies FROM FARM_PRICES\")"
   ]
  },
  {
   "cell_type": "markdown",
   "id": "07ec9e5f",
   "metadata": {
    "papermill": {
     "duration": 0.013724,
     "end_time": "2025-03-16T21:40:00.391186",
     "exception": false,
     "start_time": "2025-03-16T21:40:00.377462",
     "status": "completed"
    },
    "tags": []
   },
   "source": [
    "##### Question 3:  How many hectares of Rye were harvested in Canada in 1968?"
   ]
  },
  {
   "cell_type": "code",
   "execution_count": 11,
   "id": "2cff9d08",
   "metadata": {
    "execution": {
     "iopub.execute_input": "2025-03-16T21:40:00.419373Z",
     "iopub.status.busy": "2025-03-16T21:40:00.417664Z",
     "iopub.status.idle": "2025-03-16T21:40:00.446971Z",
     "shell.execute_reply": "2025-03-16T21:40:00.443603Z"
    },
    "papermill": {
     "duration": 0.049335,
     "end_time": "2025-03-16T21:40:00.451351",
     "exception": false,
     "start_time": "2025-03-16T21:40:00.402016",
     "status": "completed"
    },
    "tags": []
   },
   "outputs": [
    {
     "data": {
      "text/html": [
       "<table class=\"dataframe\">\n",
       "<caption>A data.frame: 1 × 1</caption>\n",
       "<thead>\n",
       "\t<tr><th scope=col>Hectares_of_Rye_Canada1968</th></tr>\n",
       "\t<tr><th scope=col>&lt;int&gt;</th></tr>\n",
       "</thead>\n",
       "<tbody>\n",
       "\t<tr><td>1</td></tr>\n",
       "</tbody>\n",
       "</table>\n"
      ],
      "text/latex": [
       "A data.frame: 1 × 1\n",
       "\\begin{tabular}{l}\n",
       " Hectares\\_of\\_Rye\\_Canada1968\\\\\n",
       " <int>\\\\\n",
       "\\hline\n",
       "\t 1\\\\\n",
       "\\end{tabular}\n"
      ],
      "text/markdown": [
       "\n",
       "A data.frame: 1 × 1\n",
       "\n",
       "| Hectares_of_Rye_Canada1968 &lt;int&gt; |\n",
       "|---|\n",
       "| 1 |\n",
       "\n"
      ],
      "text/plain": [
       "  Hectares_of_Rye_Canada1968\n",
       "1 1                         "
      ]
     },
     "metadata": {},
     "output_type": "display_data"
    }
   ],
   "source": [
    "dbGetQuery(connect, \"SELECT COUNT(*) AS Hectares_of_Rye_Canada1968 FROM CROP_DATA \n",
    "                     WHERE strftime('%Y', YEAR) = '1968' AND \n",
    "                     GEO= 'Canada' AND CROP_TYPE = 'Rye'\")"
   ]
  },
  {
   "cell_type": "markdown",
   "id": "7aafe664",
   "metadata": {
    "papermill": {
     "duration": 0.008666,
     "end_time": "2025-03-16T21:40:00.469697",
     "exception": false,
     "start_time": "2025-03-16T21:40:00.461031",
     "status": "completed"
    },
    "tags": []
   },
   "source": [
    "##### Question 4: Query and display the first 6 rows of the farm prices table for Rye."
   ]
  },
  {
   "cell_type": "code",
   "execution_count": 12,
   "id": "eabc6f45",
   "metadata": {
    "collapsed": true,
    "execution": {
     "iopub.execute_input": "2025-03-16T21:40:00.492709Z",
     "iopub.status.busy": "2025-03-16T21:40:00.490782Z",
     "iopub.status.idle": "2025-03-16T21:40:00.522386Z",
     "shell.execute_reply": "2025-03-16T21:40:00.520452Z"
    },
    "jupyter": {
     "outputs_hidden": true,
     "source_hidden": true
    },
    "papermill": {
     "duration": 0.047513,
     "end_time": "2025-03-16T21:40:00.525903",
     "exception": false,
     "start_time": "2025-03-16T21:40:00.478390",
     "status": "completed"
    },
    "tags": []
   },
   "outputs": [
    {
     "data": {
      "text/html": [
       "<table class=\"dataframe\">\n",
       "<caption>A data.frame: 6 × 5</caption>\n",
       "<thead>\n",
       "\t<tr><th scope=col>CD_ID</th><th scope=col>DATE</th><th scope=col>CROP_TYPE</th><th scope=col>GEO</th><th scope=col>PRICE_PRERMT</th></tr>\n",
       "\t<tr><th scope=col>&lt;int&gt;</th><th scope=col>&lt;chr&gt;</th><th scope=col>&lt;chr&gt;</th><th scope=col>&lt;chr&gt;</th><th scope=col>&lt;dbl&gt;</th></tr>\n",
       "</thead>\n",
       "<tbody>\n",
       "\t<tr><td> 4</td><td>1985-01-01</td><td>Rye</td><td>Alberta     </td><td>100.77</td></tr>\n",
       "\t<tr><td> 5</td><td>1985-01-01</td><td>Rye</td><td>Saskatchewan</td><td>109.75</td></tr>\n",
       "\t<tr><td>10</td><td>1985-02-01</td><td>Rye</td><td>Alberta     </td><td> 95.05</td></tr>\n",
       "\t<tr><td>11</td><td>1985-02-01</td><td>Rye</td><td>Saskatchewan</td><td>103.46</td></tr>\n",
       "\t<tr><td>16</td><td>1985-03-01</td><td>Rye</td><td>Alberta     </td><td> 96.77</td></tr>\n",
       "\t<tr><td>17</td><td>1985-03-01</td><td>Rye</td><td>Saskatchewan</td><td>106.38</td></tr>\n",
       "</tbody>\n",
       "</table>\n"
      ],
      "text/latex": [
       "A data.frame: 6 × 5\n",
       "\\begin{tabular}{lllll}\n",
       " CD\\_ID & DATE & CROP\\_TYPE & GEO & PRICE\\_PRERMT\\\\\n",
       " <int> & <chr> & <chr> & <chr> & <dbl>\\\\\n",
       "\\hline\n",
       "\t  4 & 1985-01-01 & Rye & Alberta      & 100.77\\\\\n",
       "\t  5 & 1985-01-01 & Rye & Saskatchewan & 109.75\\\\\n",
       "\t 10 & 1985-02-01 & Rye & Alberta      &  95.05\\\\\n",
       "\t 11 & 1985-02-01 & Rye & Saskatchewan & 103.46\\\\\n",
       "\t 16 & 1985-03-01 & Rye & Alberta      &  96.77\\\\\n",
       "\t 17 & 1985-03-01 & Rye & Saskatchewan & 106.38\\\\\n",
       "\\end{tabular}\n"
      ],
      "text/markdown": [
       "\n",
       "A data.frame: 6 × 5\n",
       "\n",
       "| CD_ID &lt;int&gt; | DATE &lt;chr&gt; | CROP_TYPE &lt;chr&gt; | GEO &lt;chr&gt; | PRICE_PRERMT &lt;dbl&gt; |\n",
       "|---|---|---|---|---|\n",
       "|  4 | 1985-01-01 | Rye | Alberta      | 100.77 |\n",
       "|  5 | 1985-01-01 | Rye | Saskatchewan | 109.75 |\n",
       "| 10 | 1985-02-01 | Rye | Alberta      |  95.05 |\n",
       "| 11 | 1985-02-01 | Rye | Saskatchewan | 103.46 |\n",
       "| 16 | 1985-03-01 | Rye | Alberta      |  96.77 |\n",
       "| 17 | 1985-03-01 | Rye | Saskatchewan | 106.38 |\n",
       "\n"
      ],
      "text/plain": [
       "  CD_ID DATE       CROP_TYPE GEO          PRICE_PRERMT\n",
       "1  4    1985-01-01 Rye       Alberta      100.77      \n",
       "2  5    1985-01-01 Rye       Saskatchewan 109.75      \n",
       "3 10    1985-02-01 Rye       Alberta       95.05      \n",
       "4 11    1985-02-01 Rye       Saskatchewan 103.46      \n",
       "5 16    1985-03-01 Rye       Alberta       96.77      \n",
       "6 17    1985-03-01 Rye       Saskatchewan 106.38      "
      ]
     },
     "metadata": {},
     "output_type": "display_data"
    }
   ],
   "source": [
    "dbGetQuery(connect, \"SELECT * FROM FARM_PRICES WHERE CROP_TYPE = 'Rye' LIMIT 6\")"
   ]
  },
  {
   "cell_type": "markdown",
   "id": "ad991063",
   "metadata": {
    "papermill": {
     "duration": 0.012507,
     "end_time": "2025-03-16T21:40:00.549412",
     "exception": false,
     "start_time": "2025-03-16T21:40:00.536905",
     "status": "completed"
    },
    "tags": []
   },
   "source": [
    "##### Question 5: Which provinces grew Barley?"
   ]
  },
  {
   "cell_type": "code",
   "execution_count": 13,
   "id": "d4624642",
   "metadata": {
    "collapsed": true,
    "execution": {
     "iopub.execute_input": "2025-03-16T21:40:00.576460Z",
     "iopub.status.busy": "2025-03-16T21:40:00.574118Z",
     "iopub.status.idle": "2025-03-16T21:40:00.611959Z",
     "shell.execute_reply": "2025-03-16T21:40:00.609602Z"
    },
    "jupyter": {
     "outputs_hidden": true,
     "source_hidden": true
    },
    "papermill": {
     "duration": 0.055009,
     "end_time": "2025-03-16T21:40:00.614577",
     "exception": false,
     "start_time": "2025-03-16T21:40:00.559568",
     "status": "completed"
    },
    "tags": []
   },
   "outputs": [
    {
     "data": {
      "text/html": [
       "<table class=\"dataframe\">\n",
       "<caption>A data.frame: 2 × 1</caption>\n",
       "<thead>\n",
       "\t<tr><th scope=col>PROVINCES_GREW_BARLEY</th></tr>\n",
       "\t<tr><th scope=col>&lt;chr&gt;</th></tr>\n",
       "</thead>\n",
       "<tbody>\n",
       "\t<tr><td>Alberta     </td></tr>\n",
       "\t<tr><td>Saskatchewan</td></tr>\n",
       "</tbody>\n",
       "</table>\n"
      ],
      "text/latex": [
       "A data.frame: 2 × 1\n",
       "\\begin{tabular}{l}\n",
       " PROVINCES\\_GREW\\_BARLEY\\\\\n",
       " <chr>\\\\\n",
       "\\hline\n",
       "\t Alberta     \\\\\n",
       "\t Saskatchewan\\\\\n",
       "\\end{tabular}\n"
      ],
      "text/markdown": [
       "\n",
       "A data.frame: 2 × 1\n",
       "\n",
       "| PROVINCES_GREW_BARLEY &lt;chr&gt; |\n",
       "|---|\n",
       "| Alberta      |\n",
       "| Saskatchewan |\n",
       "\n"
      ],
      "text/plain": [
       "  PROVINCES_GREW_BARLEY\n",
       "1 Alberta              \n",
       "2 Saskatchewan         "
      ]
     },
     "metadata": {},
     "output_type": "display_data"
    }
   ],
   "source": [
    "# Exclude Canada because we only want provinces\n",
    "\n",
    "dbGetQuery(connect, \"SELECT DISTINCT GEO AS PROVINCES_GREW_BARLEY FROM CROP_DATA \n",
    "                     WHERE CROP_TYPE = 'Barley' AND NOT GEO = 'Canada' \")\n"
   ]
  },
  {
   "cell_type": "markdown",
   "id": "5998712d",
   "metadata": {
    "papermill": {
     "duration": 0.012291,
     "end_time": "2025-03-16T21:40:00.636842",
     "exception": false,
     "start_time": "2025-03-16T21:40:00.624551",
     "status": "completed"
    },
    "tags": []
   },
   "source": [
    "##### Question 6: Find the first and last dates for the farm prices data."
   ]
  },
  {
   "cell_type": "code",
   "execution_count": 14,
   "id": "18cbba6e",
   "metadata": {
    "execution": {
     "iopub.execute_input": "2025-03-16T21:40:00.667244Z",
     "iopub.status.busy": "2025-03-16T21:40:00.665579Z",
     "iopub.status.idle": "2025-03-16T21:40:00.692631Z",
     "shell.execute_reply": "2025-03-16T21:40:00.690176Z"
    },
    "papermill": {
     "duration": 0.044483,
     "end_time": "2025-03-16T21:40:00.695423",
     "exception": false,
     "start_time": "2025-03-16T21:40:00.650940",
     "status": "completed"
    },
    "tags": []
   },
   "outputs": [
    {
     "data": {
      "text/html": [
       "<table class=\"dataframe\">\n",
       "<caption>A data.frame: 1 × 2</caption>\n",
       "<thead>\n",
       "\t<tr><th scope=col>FIRST_DATE</th><th scope=col>LAST_DATE</th></tr>\n",
       "\t<tr><th scope=col>&lt;chr&gt;</th><th scope=col>&lt;chr&gt;</th></tr>\n",
       "</thead>\n",
       "<tbody>\n",
       "\t<tr><td>1985-01-01</td><td>2020-12-01</td></tr>\n",
       "</tbody>\n",
       "</table>\n"
      ],
      "text/latex": [
       "A data.frame: 1 × 2\n",
       "\\begin{tabular}{ll}\n",
       " FIRST\\_DATE & LAST\\_DATE\\\\\n",
       " <chr> & <chr>\\\\\n",
       "\\hline\n",
       "\t 1985-01-01 & 2020-12-01\\\\\n",
       "\\end{tabular}\n"
      ],
      "text/markdown": [
       "\n",
       "A data.frame: 1 × 2\n",
       "\n",
       "| FIRST_DATE &lt;chr&gt; | LAST_DATE &lt;chr&gt; |\n",
       "|---|---|\n",
       "| 1985-01-01 | 2020-12-01 |\n",
       "\n"
      ],
      "text/plain": [
       "  FIRST_DATE LAST_DATE \n",
       "1 1985-01-01 2020-12-01"
      ]
     },
     "metadata": {},
     "output_type": "display_data"
    }
   ],
   "source": [
    "dbGetQuery(connect, \"SELECT MIN(DATE) AS FIRST_DATE, MAX(DATE) AS LAST_DATE FROM FARM_PRICES\")"
   ]
  },
  {
   "cell_type": "markdown",
   "id": "6ae3b674",
   "metadata": {
    "papermill": {
     "duration": 0.009233,
     "end_time": "2025-03-16T21:40:00.714083",
     "exception": false,
     "start_time": "2025-03-16T21:40:00.704850",
     "status": "completed"
    },
    "tags": []
   },
   "source": [
    "##### Question 7: Which crops have ever reached a farm price greater than or equal to $350 per metric tonne?"
   ]
  },
  {
   "cell_type": "code",
   "execution_count": 15,
   "id": "1ab55c6c",
   "metadata": {
    "execution": {
     "iopub.execute_input": "2025-03-16T21:40:00.740335Z",
     "iopub.status.busy": "2025-03-16T21:40:00.738141Z",
     "iopub.status.idle": "2025-03-16T21:40:00.762033Z",
     "shell.execute_reply": "2025-03-16T21:40:00.760099Z"
    },
    "papermill": {
     "duration": 0.039936,
     "end_time": "2025-03-16T21:40:00.765898",
     "exception": false,
     "start_time": "2025-03-16T21:40:00.725962",
     "status": "completed"
    },
    "tags": []
   },
   "outputs": [
    {
     "data": {
      "text/html": [
       "<table class=\"dataframe\">\n",
       "<caption>A data.frame: 1 × 1</caption>\n",
       "<thead>\n",
       "\t<tr><th scope=col>CROP_TYPE</th></tr>\n",
       "\t<tr><th scope=col>&lt;chr&gt;</th></tr>\n",
       "</thead>\n",
       "<tbody>\n",
       "\t<tr><td>Canola</td></tr>\n",
       "</tbody>\n",
       "</table>\n"
      ],
      "text/latex": [
       "A data.frame: 1 × 1\n",
       "\\begin{tabular}{l}\n",
       " CROP\\_TYPE\\\\\n",
       " <chr>\\\\\n",
       "\\hline\n",
       "\t Canola\\\\\n",
       "\\end{tabular}\n"
      ],
      "text/markdown": [
       "\n",
       "A data.frame: 1 × 1\n",
       "\n",
       "| CROP_TYPE &lt;chr&gt; |\n",
       "|---|\n",
       "| Canola |\n",
       "\n"
      ],
      "text/plain": [
       "  CROP_TYPE\n",
       "1 Canola   "
      ]
     },
     "metadata": {},
     "output_type": "display_data"
    }
   ],
   "source": [
    "dbGetQuery(connect, \"SELECT DISTINCT CROP_TYPE FROM FARM_PRICES WHERE PRICE_PRERMT >= 350\")"
   ]
  },
  {
   "cell_type": "markdown",
   "id": "5cb3f920",
   "metadata": {
    "papermill": {
     "duration": 0.011258,
     "end_time": "2025-03-16T21:40:00.787565",
     "exception": false,
     "start_time": "2025-03-16T21:40:00.776307",
     "status": "completed"
    },
    "tags": []
   },
   "source": [
    "##### Question 8: Rank the crop types harvested in Saskatchewan in the year 2000 by their average yield. Which crop performed best?"
   ]
  },
  {
   "cell_type": "code",
   "execution_count": 16,
   "id": "1c47117e",
   "metadata": {
    "execution": {
     "iopub.execute_input": "2025-03-16T21:40:00.816305Z",
     "iopub.status.busy": "2025-03-16T21:40:00.814544Z",
     "iopub.status.idle": "2025-03-16T21:40:00.841311Z",
     "shell.execute_reply": "2025-03-16T21:40:00.839424Z"
    },
    "papermill": {
     "duration": 0.043441,
     "end_time": "2025-03-16T21:40:00.843993",
     "exception": false,
     "start_time": "2025-03-16T21:40:00.800552",
     "status": "completed"
    },
    "tags": []
   },
   "outputs": [
    {
     "data": {
      "text/html": [
       "<table class=\"dataframe\">\n",
       "<caption>A data.frame: 4 × 3</caption>\n",
       "<thead>\n",
       "\t<tr><th scope=col>CROP_TYPE</th><th scope=col>YEAR</th><th scope=col>AVG_YIELD</th></tr>\n",
       "\t<tr><th scope=col>&lt;chr&gt;</th><th scope=col>&lt;chr&gt;</th><th scope=col>&lt;int&gt;</th></tr>\n",
       "</thead>\n",
       "<tbody>\n",
       "\t<tr><td>Barley</td><td>2000</td><td>2800</td></tr>\n",
       "\t<tr><td>Wheat </td><td>2000</td><td>2200</td></tr>\n",
       "\t<tr><td>Rye   </td><td>2000</td><td>2100</td></tr>\n",
       "\t<tr><td>Canola</td><td>2000</td><td>1400</td></tr>\n",
       "</tbody>\n",
       "</table>\n"
      ],
      "text/latex": [
       "A data.frame: 4 × 3\n",
       "\\begin{tabular}{lll}\n",
       " CROP\\_TYPE & YEAR & AVG\\_YIELD\\\\\n",
       " <chr> & <chr> & <int>\\\\\n",
       "\\hline\n",
       "\t Barley & 2000 & 2800\\\\\n",
       "\t Wheat  & 2000 & 2200\\\\\n",
       "\t Rye    & 2000 & 2100\\\\\n",
       "\t Canola & 2000 & 1400\\\\\n",
       "\\end{tabular}\n"
      ],
      "text/markdown": [
       "\n",
       "A data.frame: 4 × 3\n",
       "\n",
       "| CROP_TYPE &lt;chr&gt; | YEAR &lt;chr&gt; | AVG_YIELD &lt;int&gt; |\n",
       "|---|---|---|\n",
       "| Barley | 2000 | 2800 |\n",
       "| Wheat  | 2000 | 2200 |\n",
       "| Rye    | 2000 | 2100 |\n",
       "| Canola | 2000 | 1400 |\n",
       "\n"
      ],
      "text/plain": [
       "  CROP_TYPE YEAR AVG_YIELD\n",
       "1 Barley    2000 2800     \n",
       "2 Wheat     2000 2200     \n",
       "3 Rye       2000 2100     \n",
       "4 Canola    2000 1400     "
      ]
     },
     "metadata": {},
     "output_type": "display_data"
    }
   ],
   "source": [
    "dbGetQuery(connect, \"SELECT CROP_TYPE, strftime('%Y', YEAR) AS YEAR, AVG_YIELD  FROM CROP_DATA\n",
    "                     WHERE GEO = 'Saskatchewan' AND \n",
    "                     strftime('%Y', YEAR) = '2000' \n",
    "                     ORDER BY AVG_YIELD DESC\n",
    "           \")"
   ]
  },
  {
   "cell_type": "markdown",
   "id": "f4c7a481",
   "metadata": {
    "papermill": {
     "duration": 0.010563,
     "end_time": "2025-03-16T21:40:00.866067",
     "exception": false,
     "start_time": "2025-03-16T21:40:00.855504",
     "status": "completed"
    },
    "tags": []
   },
   "source": [
    "##### Question 9: Rank the crops and geographies by their average yield (KG per hectare) since the year 2000. Which crop and province had the highest average yield since the year 2000?"
   ]
  },
  {
   "cell_type": "code",
   "execution_count": 17,
   "id": "9f71f7f4",
   "metadata": {
    "execution": {
     "iopub.execute_input": "2025-03-16T21:40:00.891550Z",
     "iopub.status.busy": "2025-03-16T21:40:00.889998Z",
     "iopub.status.idle": "2025-03-16T21:40:00.923815Z",
     "shell.execute_reply": "2025-03-16T21:40:00.920228Z"
    },
    "papermill": {
     "duration": 0.05033,
     "end_time": "2025-03-16T21:40:00.927214",
     "exception": false,
     "start_time": "2025-03-16T21:40:00.876884",
     "status": "completed"
    },
    "tags": []
   },
   "outputs": [
    {
     "data": {
      "text/html": [
       "<table class=\"dataframe\">\n",
       "<caption>A data.frame: 10 × 4</caption>\n",
       "<thead>\n",
       "\t<tr><th scope=col>YEAR</th><th scope=col>CROP_TYPE</th><th scope=col>GEO</th><th scope=col>AVG_YIELD</th></tr>\n",
       "\t<tr><th scope=col>&lt;chr&gt;</th><th scope=col>&lt;chr&gt;</th><th scope=col>&lt;chr&gt;</th><th scope=col>&lt;int&gt;</th></tr>\n",
       "</thead>\n",
       "<tbody>\n",
       "\t<tr><td>2013</td><td>Barley</td><td>Alberta</td><td>4100</td></tr>\n",
       "\t<tr><td>2016</td><td>Barley</td><td>Alberta</td><td>4100</td></tr>\n",
       "\t<tr><td>2020</td><td>Barley</td><td>Alberta</td><td>3980</td></tr>\n",
       "\t<tr><td>2013</td><td>Wheat </td><td>Alberta</td><td>3900</td></tr>\n",
       "\t<tr><td>2016</td><td>Barley</td><td>Canada </td><td>3900</td></tr>\n",
       "\t<tr><td>2016</td><td>Wheat </td><td>Alberta</td><td>3900</td></tr>\n",
       "\t<tr><td>2017</td><td>Barley</td><td>Alberta</td><td>3900</td></tr>\n",
       "\t<tr><td>2019</td><td>Barley</td><td>Alberta</td><td>3890</td></tr>\n",
       "\t<tr><td>2020</td><td>Barley</td><td>Canada </td><td>3820</td></tr>\n",
       "\t<tr><td>2019</td><td>Barley</td><td>Canada </td><td>3810</td></tr>\n",
       "</tbody>\n",
       "</table>\n"
      ],
      "text/latex": [
       "A data.frame: 10 × 4\n",
       "\\begin{tabular}{llll}\n",
       " YEAR & CROP\\_TYPE & GEO & AVG\\_YIELD\\\\\n",
       " <chr> & <chr> & <chr> & <int>\\\\\n",
       "\\hline\n",
       "\t 2013 & Barley & Alberta & 4100\\\\\n",
       "\t 2016 & Barley & Alberta & 4100\\\\\n",
       "\t 2020 & Barley & Alberta & 3980\\\\\n",
       "\t 2013 & Wheat  & Alberta & 3900\\\\\n",
       "\t 2016 & Barley & Canada  & 3900\\\\\n",
       "\t 2016 & Wheat  & Alberta & 3900\\\\\n",
       "\t 2017 & Barley & Alberta & 3900\\\\\n",
       "\t 2019 & Barley & Alberta & 3890\\\\\n",
       "\t 2020 & Barley & Canada  & 3820\\\\\n",
       "\t 2019 & Barley & Canada  & 3810\\\\\n",
       "\\end{tabular}\n"
      ],
      "text/markdown": [
       "\n",
       "A data.frame: 10 × 4\n",
       "\n",
       "| YEAR &lt;chr&gt; | CROP_TYPE &lt;chr&gt; | GEO &lt;chr&gt; | AVG_YIELD &lt;int&gt; |\n",
       "|---|---|---|---|\n",
       "| 2013 | Barley | Alberta | 4100 |\n",
       "| 2016 | Barley | Alberta | 4100 |\n",
       "| 2020 | Barley | Alberta | 3980 |\n",
       "| 2013 | Wheat  | Alberta | 3900 |\n",
       "| 2016 | Barley | Canada  | 3900 |\n",
       "| 2016 | Wheat  | Alberta | 3900 |\n",
       "| 2017 | Barley | Alberta | 3900 |\n",
       "| 2019 | Barley | Alberta | 3890 |\n",
       "| 2020 | Barley | Canada  | 3820 |\n",
       "| 2019 | Barley | Canada  | 3810 |\n",
       "\n"
      ],
      "text/plain": [
       "   YEAR CROP_TYPE GEO     AVG_YIELD\n",
       "1  2013 Barley    Alberta 4100     \n",
       "2  2016 Barley    Alberta 4100     \n",
       "3  2020 Barley    Alberta 3980     \n",
       "4  2013 Wheat     Alberta 3900     \n",
       "5  2016 Barley    Canada  3900     \n",
       "6  2016 Wheat     Alberta 3900     \n",
       "7  2017 Barley    Alberta 3900     \n",
       "8  2019 Barley    Alberta 3890     \n",
       "9  2020 Barley    Canada  3820     \n",
       "10 2019 Barley    Canada  3810     "
      ]
     },
     "metadata": {},
     "output_type": "display_data"
    }
   ],
   "source": [
    "dbGetQuery(connect, \"SELECT strftime('%Y', YEAR) AS YEAR, CROP_TYPE, GEO, AVG_YIELD\n",
    "                     FROM CROP_DATA\n",
    "                     WHERE YEAR >= 2000\n",
    "                     ORDER BY AVG_YIELD DESC\n",
    "                     LIMIT 10 \n",
    "           \")"
   ]
  },
  {
   "cell_type": "markdown",
   "id": "e477a48c",
   "metadata": {
    "papermill": {
     "duration": 0.058456,
     "end_time": "2025-03-16T21:40:00.996807",
     "exception": false,
     "start_time": "2025-03-16T21:40:00.938351",
     "status": "completed"
    },
    "tags": []
   },
   "source": [
    "##### Question 10: Use a subquery to determine how much wheat was harvested in Canada in the most recent year of the data."
   ]
  },
  {
   "cell_type": "code",
   "execution_count": 18,
   "id": "b274c851",
   "metadata": {
    "execution": {
     "iopub.execute_input": "2025-03-16T21:40:01.021488Z",
     "iopub.status.busy": "2025-03-16T21:40:01.019796Z",
     "iopub.status.idle": "2025-03-16T21:40:01.043174Z",
     "shell.execute_reply": "2025-03-16T21:40:01.041405Z"
    },
    "papermill": {
     "duration": 0.038748,
     "end_time": "2025-03-16T21:40:01.045784",
     "exception": false,
     "start_time": "2025-03-16T21:40:01.007036",
     "status": "completed"
    },
    "tags": []
   },
   "outputs": [
    {
     "data": {
      "text/html": [
       "<table class=\"dataframe\">\n",
       "<caption>A data.frame: 1 × 2</caption>\n",
       "<thead>\n",
       "\t<tr><th scope=col>RECENT_YEAR</th><th scope=col>Total_HARVESTED</th></tr>\n",
       "\t<tr><th scope=col>&lt;chr&gt;</th><th scope=col>&lt;int&gt;</th></tr>\n",
       "</thead>\n",
       "<tbody>\n",
       "\t<tr><td>2020-12-31</td><td>38897100</td></tr>\n",
       "</tbody>\n",
       "</table>\n"
      ],
      "text/latex": [
       "A data.frame: 1 × 2\n",
       "\\begin{tabular}{ll}\n",
       " RECENT\\_YEAR & Total\\_HARVESTED\\\\\n",
       " <chr> & <int>\\\\\n",
       "\\hline\n",
       "\t 2020-12-31 & 38897100\\\\\n",
       "\\end{tabular}\n"
      ],
      "text/markdown": [
       "\n",
       "A data.frame: 1 × 2\n",
       "\n",
       "| RECENT_YEAR &lt;chr&gt; | Total_HARVESTED &lt;int&gt; |\n",
       "|---|---|\n",
       "| 2020-12-31 | 38897100 |\n",
       "\n"
      ],
      "text/plain": [
       "  RECENT_YEAR Total_HARVESTED\n",
       "1 2020-12-31  38897100       "
      ]
     },
     "metadata": {},
     "output_type": "display_data"
    }
   ],
   "source": [
    "dbGetQuery(connect, \"SELECT MAX(YEAR) AS RECENT_YEAR, SUM(HARVESTED_AREA) AS Total_HARVESTED \n",
    "                     FROM CROP_DATA\n",
    "                     WHERE strftime('%Y', YEAR) = (SELECT MAX(strftime('%Y', YEAR)) \n",
    "                                                   FROM CROP_DATA WHERE GEO = 'Canada' AND \n",
    "                                                   CROP_TYPE = 'Wheat')\n",
    "           \")"
   ]
  },
  {
   "cell_type": "markdown",
   "id": "4175521a",
   "metadata": {
    "papermill": {
     "duration": 0.010817,
     "end_time": "2025-03-16T21:40:01.067181",
     "exception": false,
     "start_time": "2025-03-16T21:40:01.056364",
     "status": "completed"
    },
    "tags": []
   },
   "source": [
    "##### Question 11: Use an implicit inner join to calculate the monthly price per metric tonne of Canola grown in Saskatchewan in both Canadian and US dollars. Display the most recent 6 months of the data."
   ]
  },
  {
   "cell_type": "code",
   "execution_count": 19,
   "id": "0e3b7029",
   "metadata": {
    "execution": {
     "iopub.execute_input": "2025-03-16T21:40:01.094327Z",
     "iopub.status.busy": "2025-03-16T21:40:01.092612Z",
     "iopub.status.idle": "2025-03-16T21:40:01.119373Z",
     "shell.execute_reply": "2025-03-16T21:40:01.117525Z"
    },
    "papermill": {
     "duration": 0.043157,
     "end_time": "2025-03-16T21:40:01.122093",
     "exception": false,
     "start_time": "2025-03-16T21:40:01.078936",
     "status": "completed"
    },
    "tags": []
   },
   "outputs": [
    {
     "data": {
      "text/html": [
       "<table class=\"dataframe\">\n",
       "<caption>A data.frame: 6 × 5</caption>\n",
       "<thead>\n",
       "\t<tr><th scope=col>DATE</th><th scope=col>CROP_TYPE</th><th scope=col>GEO</th><th scope=col>CANADIAN_CURRENCY</th><th scope=col>US_CURRENCY</th></tr>\n",
       "\t<tr><th scope=col>&lt;chr&gt;</th><th scope=col>&lt;chr&gt;</th><th scope=col>&lt;chr&gt;</th><th scope=col>&lt;dbl&gt;</th><th scope=col>&lt;dbl&gt;</th></tr>\n",
       "</thead>\n",
       "<tbody>\n",
       "\t<tr><td>2020-12-01</td><td>Canola</td><td>Saskatchewan</td><td>507.33</td><td>396.1128</td></tr>\n",
       "\t<tr><td>2020-11-01</td><td>Canola</td><td>Saskatchewan</td><td>495.64</td><td>379.2718</td></tr>\n",
       "\t<tr><td>2020-10-01</td><td>Canola</td><td>Saskatchewan</td><td>474.80</td><td>359.2965</td></tr>\n",
       "\t<tr><td>2020-09-01</td><td>Canola</td><td>Saskatchewan</td><td>463.52</td><td>350.4057</td></tr>\n",
       "\t<tr><td>2020-08-01</td><td>Canola</td><td>Saskatchewan</td><td>464.60</td><td>351.3827</td></tr>\n",
       "\t<tr><td>2020-07-01</td><td>Canola</td><td>Saskatchewan</td><td>462.88</td><td>342.9122</td></tr>\n",
       "</tbody>\n",
       "</table>\n"
      ],
      "text/latex": [
       "A data.frame: 6 × 5\n",
       "\\begin{tabular}{lllll}\n",
       " DATE & CROP\\_TYPE & GEO & CANADIAN\\_CURRENCY & US\\_CURRENCY\\\\\n",
       " <chr> & <chr> & <chr> & <dbl> & <dbl>\\\\\n",
       "\\hline\n",
       "\t 2020-12-01 & Canola & Saskatchewan & 507.33 & 396.1128\\\\\n",
       "\t 2020-11-01 & Canola & Saskatchewan & 495.64 & 379.2718\\\\\n",
       "\t 2020-10-01 & Canola & Saskatchewan & 474.80 & 359.2965\\\\\n",
       "\t 2020-09-01 & Canola & Saskatchewan & 463.52 & 350.4057\\\\\n",
       "\t 2020-08-01 & Canola & Saskatchewan & 464.60 & 351.3827\\\\\n",
       "\t 2020-07-01 & Canola & Saskatchewan & 462.88 & 342.9122\\\\\n",
       "\\end{tabular}\n"
      ],
      "text/markdown": [
       "\n",
       "A data.frame: 6 × 5\n",
       "\n",
       "| DATE &lt;chr&gt; | CROP_TYPE &lt;chr&gt; | GEO &lt;chr&gt; | CANADIAN_CURRENCY &lt;dbl&gt; | US_CURRENCY &lt;dbl&gt; |\n",
       "|---|---|---|---|---|\n",
       "| 2020-12-01 | Canola | Saskatchewan | 507.33 | 396.1128 |\n",
       "| 2020-11-01 | Canola | Saskatchewan | 495.64 | 379.2718 |\n",
       "| 2020-10-01 | Canola | Saskatchewan | 474.80 | 359.2965 |\n",
       "| 2020-09-01 | Canola | Saskatchewan | 463.52 | 350.4057 |\n",
       "| 2020-08-01 | Canola | Saskatchewan | 464.60 | 351.3827 |\n",
       "| 2020-07-01 | Canola | Saskatchewan | 462.88 | 342.9122 |\n",
       "\n"
      ],
      "text/plain": [
       "  DATE       CROP_TYPE GEO          CANADIAN_CURRENCY US_CURRENCY\n",
       "1 2020-12-01 Canola    Saskatchewan 507.33            396.1128   \n",
       "2 2020-11-01 Canola    Saskatchewan 495.64            379.2718   \n",
       "3 2020-10-01 Canola    Saskatchewan 474.80            359.2965   \n",
       "4 2020-09-01 Canola    Saskatchewan 463.52            350.4057   \n",
       "5 2020-08-01 Canola    Saskatchewan 464.60            351.3827   \n",
       "6 2020-07-01 Canola    Saskatchewan 462.88            342.9122   "
      ]
     },
     "metadata": {},
     "output_type": "display_data"
    }
   ],
   "source": [
    "dbGetQuery(connect, \"SELECT F.DATE, F.CROP_TYPE, F.GEO, F.PRICE_PRERMT AS CANADIAN_CURRENCY, \n",
    "                     (F.PRICE_PRERMT / M.FXUSDCAD) AS US_CURRENCY\n",
    "                     FROM FARM_PRICES F, MONTHLY_FX M\n",
    "                     WHERE F.DATE = M.DATE AND\n",
    "                     CROP_TYPE = 'Canola' AND\n",
    "                     GEO = 'Saskatchewan'\n",
    "                     ORDER BY F.DATE DESC\n",
    "                     LIMIT 6\n",
    "                \n",
    "           \n",
    "           \")"
   ]
  }
 ],
 "metadata": {
  "kaggle": {
   "accelerator": "none",
   "dataSources": [],
   "dockerImageVersionId": 30749,
   "isGpuEnabled": false,
   "isInternetEnabled": true,
   "language": "r",
   "sourceType": "notebook"
  },
  "kernelspec": {
   "display_name": "R",
   "language": "R",
   "name": "ir"
  },
  "language_info": {
   "codemirror_mode": "r",
   "file_extension": ".r",
   "mimetype": "text/x-r-source",
   "name": "R",
   "pygments_lexer": "r",
   "version": "4.4.0"
  },
  "papermill": {
   "default_parameters": {},
   "duration": 11.31568,
   "end_time": "2025-03-16T21:40:01.259886",
   "environment_variables": {},
   "exception": null,
   "input_path": "__notebook__.ipynb",
   "output_path": "__notebook__.ipynb",
   "parameters": {},
   "start_time": "2025-03-16T21:39:49.944206",
   "version": "2.6.0"
  }
 },
 "nbformat": 4,
 "nbformat_minor": 5
}
